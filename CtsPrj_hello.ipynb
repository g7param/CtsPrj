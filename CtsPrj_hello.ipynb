{
  "nbformat": 4,
  "nbformat_minor": 0,
  "metadata": {
    "colab": {
      "name": "CtsPrj_hello.ipynb",
      "provenance": [],
      "collapsed_sections": [],
      "authorship_tag": "ABX9TyP/rXlQ/L8XV9hFJHDt0nBW",
      "include_colab_link": true
    },
    "kernelspec": {
      "name": "python3",
      "display_name": "Python 3"
    }
  },
  "cells": [
    {
      "cell_type": "markdown",
      "metadata": {
        "id": "view-in-github",
        "colab_type": "text"
      },
      "source": [
        "<a href=\"https://colab.research.google.com/github/g7param/CtsPrj/blob/master/CtsPrj_hello.ipynb\" target=\"_parent\"><img src=\"https://colab.research.google.com/assets/colab-badge.svg\" alt=\"Open In Colab\"/></a>"
      ]
    },
    {
      "cell_type": "code",
      "metadata": {
        "id": "Xcy9cOz6Qty2",
        "colab_type": "code",
        "colab": {
          "base_uri": "https://localhost:8080/",
          "height": 34
        },
        "outputId": "7fb61fb3-291c-45d0-81e5-dbaf429614a8"
      },
      "source": [
        "import sys\n",
        "import random\n",
        "def convString(CS):\n",
        "    if len(CS) > 8:\n",
        "        print(\"Invalid string: greater thatnn 8 chars\")\n",
        "    else:\n",
        "        try:\n",
        "            print(int(CS))\n",
        "        except:\n",
        "            print(\"Enter bit string\")\n",
        "def pick8Cells():   \n",
        "    lines = ['a','b','c','d','e','f','g','h']\n",
        "    cell= []\n",
        "    for i in range(8):\n",
        "        cell.append(lines[random.randrange(8)] + lines[random.randrange(8)])\n",
        "    return cell\n",
        "\n",
        "    \n",
        "\n",
        "print(pick8Cells())\n"
      ],
      "execution_count": 2,
      "outputs": [
        {
          "output_type": "stream",
          "text": [
            "['ec', 'aa', 'ag', 'gg', 'bb', 'fb', 'gc', 'eg']\n"
          ],
          "name": "stdout"
        }
      ]
    }
  ]
}